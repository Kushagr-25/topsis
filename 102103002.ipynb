{
 "cells": [
  {
   "cell_type": "code",
   "execution_count": 55,
   "id": "1edc8c28",
   "metadata": {},
   "outputs": [],
   "source": [
    "import pandas as pd\n",
    "import os\n",
    "import sys\n",
    "\n",
    "def main():\n",
    "    # Arguments not equal to 5\n",
    "    #print(\"Checking for Errors...\\n\")\n",
    "    if len(sys.argv) != 5:\n",
    "        print(\"ERROR : NUMBER OF PARAMETERS\")\n",
    "        print(\"USAGE : python topsis.py inputfile.csv '1,1,1,1' '+,+,-,+' result.csv \")\n",
    "        exit(1)\n",
    "\n",
    "    # File Not Found error\n",
    "    elif not os.path.isfile(sys.argv[1]):\n",
    "        print(f\"ERROR : {sys.argv[1]} Don't exist!!\")\n",
    "        exit(1)\n",
    "\n",
    "    # File extension not csv\n",
    "    elif \".csv\" != (os.path.splitext(sys.argv[1]))[1]:\n",
    "        print(f\"ERROR : {sys.argv[1]} is not csv!!\")\n",
    "        exit(1)\n",
    "\n",
    "    else:\n",
    "        dt, res = pd.read_csv(\n",
    "            sys.argv[1]), pd.read_csv(sys.argv[1])\n",
    "        nCol = len(res.columns.values)\n",
    "\n",
    "        # less then 3 columns in input dataset\n",
    "        if nCol < 3:\n",
    "            print(\"ERROR : Input file have less then 3 columns\")\n",
    "            exit(1)\n",
    "\n",
    "        # Handeling non-numeric value\n",
    "        for i in range(1, nCol):\n",
    "            pd.to_numeric(dt.iloc[:, i], errors='coerce')\n",
    "            dt.iloc[:, i].fillna(\n",
    "                (dt.iloc[:, i].mean()), inplace=True)\n",
    "\n",
    "        # Handling errors of weighted and impact arrays\n",
    "        try:\n",
    "            weights = [int(i) for i in sys.argv[2].split(',')]\n",
    "        except:\n",
    "            print(\"ERROR : In weights array please check again\")\n",
    "            exit(1)\n",
    "        impact = sys.argv[3].split(',')\n",
    "        for i in impact:\n",
    "            if not (i == '+' or i == '-'):\n",
    "                print(\"ERROR : In impact array please check again\")\n",
    "                exit(1)\n",
    "\n",
    "        # Checking number of column,weights and impacts is same or not\n",
    "        if nCol != len(weights)+1 or nCol != len(impact)+1:\n",
    "            print(\n",
    "                \"ERROR : Number of weights, number of impacts and number of columns not same\")\n",
    "            exit(1)\n",
    "\n",
    "        if (\".csv\" != (os.path.splitext(sys.argv[4]))[1]):\n",
    "            print(\"ERROR : Output file extension is wrong\")\n",
    "            exit(1)\n",
    "        if os.path.isfile(sys.argv[4]):\n",
    "            os.remove(sys.argv[4])\n",
    "        #print(\" No error found\\n\\n Applying Topsis Algorithm...\\n\")\n",
    "        Topsis(dt, res, nCol, weights, impact)\n"
   ]
  },
  {
   "cell_type": "code",
   "execution_count": 56,
   "id": "ea967b41",
   "metadata": {},
   "outputs": [],
   "source": [
    "def Normalize(dataset, nCol, weights):\n",
    "    #print(\" Normalizing the DataSet...\\n\")\n",
    "    for i in range(1, nCol):\n",
    "        temp = 0\n",
    "        for j in range(len(dataset)):\n",
    "            temp = temp + dataset.iloc[j, i]**2\n",
    "        temp = temp**0.5\n",
    "        for j in range(len(dataset)):\n",
    "            dataset.iat[j, i] = (dataset.iloc[j, i] / temp)*weights[i-1]\n",
    "    return dataset"
   ]
  },
  {
   "cell_type": "code",
   "execution_count": 57,
   "id": "2711e97e",
   "metadata": {},
   "outputs": [],
   "source": [
    "def Calc_Values(dataset, nCol, impact):\n",
    "    #print(\" Calculating Positive and Negative values...\\n\")\n",
    "    p_sln = (dataset.max().values)[1:]\n",
    "    n_sln = (dataset.min().values)[1:]\n",
    "    for i in range(1, nCol):\n",
    "        if impact[i-1] == '-':\n",
    "            p_sln[i-1], n_sln[i-1] = n_sln[i-1], p_sln[i-1]\n",
    "    return p_sln, n_sln"
   ]
  },
  {
   "cell_type": "code",
   "execution_count": 58,
   "id": "b470fae1",
   "metadata": {},
   "outputs": [],
   "source": [
    "def Topsis(dt, res, nCol, weights, impact):\n",
    "    dt = Normalize(dt, nCol, weights)\n",
    "    p_sln, n_sln = Calc_Values(dt, nCol, impact)\n",
    "    #print(\" Generating Score and Rank...\\n\")\n",
    "    score = []\n",
    "    for i in range(len(dt)):\n",
    "        dt_p, dt_n = 0, 0\n",
    "        for j in range(1, nCol):\n",
    "            dt_p = dt_p + (p_sln[j-1] - dt.iloc[i, j])**2\n",
    "            dt_n = dt_n + (n_sln[j-1] - dt.iloc[i, j])**2\n",
    "        dt_p, dt_n = dt_p**0.5, dt_n**0.5\n",
    "        score.append(dt_n/(dt_p + dt_n))\n",
    "    res['Topsis Score'] = score\n",
    "    \n",
    "    res['Rank'] = (res['Topsis Score'].rank(method = 'max', ascending = False))\n",
    "    res = res.astype({\"Rank\": int})\n",
    "    \n",
    "    #print(\" Writing Result to CSV...\\n\")\n",
    "    res.to_csv(sys.argv[4], index = False)\n",
    "    \n",
    "    #print(\" Successfully Terminated\")"
   ]
  },
  {
   "cell_type": "code",
   "execution_count": 59,
   "id": "c8662e07",
   "metadata": {},
   "outputs": [
    {
     "name": "stdout",
     "output_type": "stream",
     "text": [
      "Checking for Errors...\n",
      "\n",
      "ERROR : NUMBER OF PARAMETERS\n",
      "USAGE : python topsis.py inputfile.csv '1,1,1,1' '+,+,-,+' result.csv \n"
     ]
    }
   ],
   "source": [
    "if __name__ == \"__main__\":\n",
    "    main()"
   ]
  },
  {
   "cell_type": "code",
   "execution_count": null,
   "id": "0b105178",
   "metadata": {},
   "outputs": [],
   "source": []
  }
 ],
 "metadata": {
  "kernelspec": {
   "display_name": "Python 3 (ipykernel)",
   "language": "python",
   "name": "python3"
  },
  "language_info": {
   "codemirror_mode": {
    "name": "ipython",
    "version": 3
   },
   "file_extension": ".py",
   "mimetype": "text/x-python",
   "name": "python",
   "nbconvert_exporter": "python",
   "pygments_lexer": "ipython3",
   "version": "3.9.12"
  }
 },
 "nbformat": 4,
 "nbformat_minor": 5
}
